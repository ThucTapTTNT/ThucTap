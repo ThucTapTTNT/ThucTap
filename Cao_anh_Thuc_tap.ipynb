{
 "cells": [
  {
   "cell_type": "code",
   "execution_count": 2,
   "id": "f0e147f0",
   "metadata": {},
   "outputs": [
    {
     "name": "stdout",
     "output_type": "stream",
     "text": [
      "What are you looking for? batman\n",
      "How many images do you want? 3\n",
      "Start searching...\n",
      "Done\n"
     ]
    }
   ],
   "source": [
    "from bs4 import BeautifulSoup\n",
    "import requests\n",
    "import os\n",
    "\n",
    "# Địa chỉ URL của trang tìm kiếm Google Images\n",
    "GOOGLE_IMAGE = \\\n",
    "    'https://www.google.com/search?site=&tbm=isch&source=hp&biw=1873&bih=990&'\n",
    "data = input('What are you looking for? ')\n",
    "url = GOOGLE_IMAGE + 'q=' + data\n",
    "n_images = int(input('How many images do you want? '))\n",
    "print('Start searching...')\n",
    "# Tạo một yêu cầu HTTP và gửi yêu cầu đến trang web\n",
    "response = requests.get(url)\n",
    "\n",
    "# Chuyển đổi nội dung của trang web sang đối tượng BeautifulSoup\n",
    "soup = BeautifulSoup(response.content, 'html.parser')\n",
    "\n",
    "# Tìm tất cả các thẻ img trên trang web\n",
    "images = soup.find_all('img',limit = n_images)\n",
    "\n",
    "# Tạo một thư mục để lưu trữ ảnh\n",
    "if not os.path.exists('images'):\n",
    "    os.makedirs('images')\n",
    "\n",
    "# Tải xuống các hình ảnh từ URL và lưu trữ trong thư mục 'images'\n",
    "for i, image in enumerate(images):\n",
    "    try:\n",
    "        # Lấy URL của ảnh\n",
    "        image_url = image['src']\n",
    "\n",
    "        # Tải xuống ảnh từ URL\n",
    "        response = requests.get(image_url)\n",
    "\n",
    "        # Tạo một tên tập tin cho ảnh dựa trên số thứ tự\n",
    "        filename = 'images/image{}.jpg'.format(i)\n",
    "\n",
    "        # Lưu trữ ảnh tải xuống trong thư mục 'images'\n",
    "        with open(filename, 'wb') as f:\n",
    "            f.write(response.content)\n",
    "    except:\n",
    "        pass\n",
    "        print(\"Done\")"
   ]
  },
  {
   "cell_type": "code",
   "execution_count": 12,
   "id": "b6fe5422",
   "metadata": {},
   "outputs": [
    {
     "name": "stdout",
     "output_type": "stream",
     "text": [
      "What are you looking for? cat\n",
      "How many images do you want? 10\n",
      "Start searching...\n",
      "<img alt=\"Google\" class=\"kgJEQe\" src=\"/images/branding/searchlogo/1x/googlelogo_desk_heirloom_color_150x55dp.gif\"/>\n",
      "<img alt=\"\" class=\"yWs4tf\" src=\"https://encrypted-tbn0.gstatic.com/images?q=tbn:ANd9GcSpcPBqqdl0GyyJldY3wynsNbK5RVQpBavKabUPq-MRjHxmKHlZTRP_gdog0A&amp;s\"/>\n",
      "<img alt=\"\" class=\"yWs4tf\" src=\"https://encrypted-tbn0.gstatic.com/images?q=tbn:ANd9GcQnbEUzDYHVAhoIdNvi9i5-C4PYfdEzH3dLMK8PP-yrqt3CONg8EgNSjDtMn6I&amp;s\"/>\n",
      "<img alt=\"\" class=\"yWs4tf\" src=\"https://encrypted-tbn0.gstatic.com/images?q=tbn:ANd9GcSPZO3wz9NL1cRPCfpMNsU-kFT75f2VbB8a3Fq65PdO4wPZAq-adb0l87Beew&amp;s\"/>\n",
      "<img alt=\"\" class=\"yWs4tf\" src=\"https://encrypted-tbn0.gstatic.com/images?q=tbn:ANd9GcTNXmLeCfi5AjgqK4npl_Nfe0o4C4_j9iwNiIeZauoQk8Bv-uxtSqg6uqaVmg&amp;s\"/>\n",
      "<img alt=\"\" class=\"yWs4tf\" src=\"https://encrypted-tbn0.gstatic.com/images?q=tbn:ANd9GcQrOiLyZeD5RjNpAw0XzYFcvl6zrhE5bI53byDyuhbM5nt870B6yT_raK48&amp;s\"/>\n",
      "<img alt=\"\" class=\"yWs4tf\" src=\"https://encrypted-tbn0.gstatic.com/images?q=tbn:ANd9GcSQVJ8iIWM5ZRV2OyXAz2qN-JtpNbHmSgGbF9gkW5yzQx9llnHlAu-zhT-z4A&amp;s\"/>\n",
      "<img alt=\"\" class=\"yWs4tf\" src=\"https://encrypted-tbn0.gstatic.com/images?q=tbn:ANd9GcTOyS5jrGynKIQqMKTOxi_MPbQFub8zsBDGtNVYioaWRFQJ1A8jjJArAoctXuM&amp;s\"/>\n",
      "<img alt=\"\" class=\"yWs4tf\" src=\"https://encrypted-tbn0.gstatic.com/images?q=tbn:ANd9GcTc4tajOZSaaEpVPqzyTfSkKpEItDbKJewbREb44--_hRfnmxVLil13EkktBQ&amp;s\"/>\n",
      "<img alt=\"\" class=\"yWs4tf\" src=\"https://encrypted-tbn0.gstatic.com/images?q=tbn:ANd9GcSLQ33aQT0WRBeiIY5BY_VUNDPFmv-CBjBKE6386wu2xPGMIcqQ6NbIIIoJzYk&amp;s\"/>\n",
      "Done\n"
     ]
    }
   ],
   "source": [
    "from bs4 import BeautifulSoup\n",
    "import requests\n",
    "import os\n",
    "\n",
    "class ImageScraper:\n",
    "    GOOGLE_IMAGE = 'https://www.google.com/search?site=&tbm=isch&source=hp&biw=1873&bih=990&'\n",
    "\n",
    "    def __init__(self):\n",
    "        self.data = ''\n",
    "        self.n_images = 0\n",
    "        \n",
    "    def input_data(self, data, n_images):\n",
    "        self.data = data\n",
    "        self.n_images = n_images\n",
    "    \n",
    "    def search_images(self):\n",
    "        url = self.GOOGLE_IMAGE + 'q=' + self.data\n",
    "        print('Start searching...')\n",
    "        response = requests.get(url)\n",
    "        soup = BeautifulSoup(response.content, 'html.parser')\n",
    "        images = soup.find_all('img', limit=self.n_images)\n",
    "        for item in images:\n",
    "            print(item)\n",
    "        if not os.path.exists('images'):\n",
    "            os.makedirs('images')\n",
    "\n",
    "        for i, image in enumerate(images):\n",
    "            try:\n",
    "                image_url = image['src']\n",
    "                response = requests.get(image_url)\n",
    "                filename = 'images/image{}.jpg'.format(i)\n",
    "                with open(filename, 'wb') as f:\n",
    "                    f.write(response.content)\n",
    "            except:\n",
    "                pass\n",
    "                print('Done')\n",
    "\n",
    "if __name__ == '__main__':\n",
    "    data = input('What are you looking for? ')\n",
    "    n_images = int(input('How many images do you want? '))\n",
    "    scraper = ImageScraper()\n",
    "    scraper.input_data(data, n_images)\n",
    "    scraper.search_images()"
   ]
  },
  {
   "cell_type": "code",
   "execution_count": null,
   "id": "f3b702e8",
   "metadata": {},
   "outputs": [],
   "source": []
  }
 ],
 "metadata": {
  "kernelspec": {
   "display_name": "Python 3 (ipykernel)",
   "language": "python",
   "name": "python3"
  },
  "language_info": {
   "codemirror_mode": {
    "name": "ipython",
    "version": 3
   },
   "file_extension": ".py",
   "mimetype": "text/x-python",
   "name": "python",
   "nbconvert_exporter": "python",
   "pygments_lexer": "ipython3",
   "version": "3.9.13"
  }
 },
 "nbformat": 4,
 "nbformat_minor": 5
}
