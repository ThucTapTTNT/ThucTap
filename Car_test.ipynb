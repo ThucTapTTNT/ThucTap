{
 "cells": [
  {
   "cell_type": "code",
   "execution_count": null,
   "id": "b1bc0747",
   "metadata": {},
   "outputs": [],
   "source": [
    "from bs4 import BeautifulSoup\n",
    "import requests\n",
    "import os\n",
    "\n",
    "class ImageScraper:\n",
    "    GOOGLE_IMAGE = 'https://www.google.com/search?site=&tbm=isch&source=hp&biw=1873&bih=990&'\n",
    "\n",
    "    def __init__(self):\n",
    "        self.data = ''\n",
    "        self.n_images = 0\n",
    "        \n",
    "    def input_data(self, data, n_images):\n",
    "        self.data = data\n",
    "        self.n_images = n_images\n",
    "    \n",
    "    def search_images(self):\n",
    "        url = self.GOOGLE_IMAGE + 'q=' + self.data\n",
    "        print('Start searching...')\n",
    "        response = requests.get(url,verify=False)\n",
    "        soup = BeautifulSoup(response.content, 'html.parser')\n",
    "        images = soup.find_all('img', limit=self.n_images)\n",
    "        return images\n",
    "    \n",
    "    def download_images(self,images):\n",
    "        if not os.path.exists('images'):\n",
    "            os.makedirs('images')\n",
    "\n",
    "        for i, image in enumerate(images):\n",
    "            try:\n",
    "                image_url = image['src']\n",
    "                response = requests.get(image_url)\n",
    "                filename = 'images/image{}.jpg'.format(i)\n",
    "                with open(filename, 'wb') as f:\n",
    "                    f.write(response.content)\n",
    "            except:\n",
    "                pass\n",
    "                print('Done')"
   ]
  },
  {
   "cell_type": "code",
   "execution_count": 58,
   "id": "85ef6cfb",
   "metadata": {},
   "outputs": [],
   "source": [
    "from tensorflow import keras\n",
    "import tensorflow as tf\n",
    "import numpy as np\n",
    "import os\n",
    "import cv2\n",
    "import matplotlib.pyplot as plt\n",
    "\n",
    "from sklearn.metrics import accuracy_score\n",
    "from sklearn.metrics import classification_report\n",
    "from sklearn.metrics import confusion_matrix\n",
    "from sklearn.model_selection import train_test_split"
   ]
  },
  {
   "cell_type": "code",
   "execution_count": 8,
   "id": "b4301843",
   "metadata": {},
   "outputs": [
    {
     "name": "stdout",
     "output_type": "stream",
     "text": [
      "Downloading data from https://storage.googleapis.com/tensorflow/keras-applications/resnet/resnet50_weights_tf_dim_ordering_tf_kernels_notop.h5\n",
      "94765736/94765736 [==============================] - 21s 0us/step\n"
     ]
    }
   ],
   "source": [
    "model = None\n",
    "pretrained_model = tf.keras.applications.ResNet50(input_shape = (224,224,3), weights=\"imagenet\",include_top=False)\n",
    "inputs = keras.layers.Input((224,224,3),name = 'input')\n",
    "x = keras.layers.Resizing(224,224, name = 'resize')(inputs)\n",
    "x = pretrained_model(x)\n",
    "x = keras.layers.GlobalAveragePooling2D(name = 'pooling')(x)\n",
    "ouputs = keras.layers.Dense(7,activation = 'softmax',name = 'classfication')(x)\n",
    "model = keras.Model(inputs = inputs, outputs = ouputs)"
   ]
  },
  {
   "cell_type": "code",
   "execution_count": 9,
   "id": "f40def8d",
   "metadata": {},
   "outputs": [],
   "source": [
    "l = len(model.layers[2].layers)\n",
    "for i, layer in enumerate(model.layers[2].layers):\n",
    "  if i <= 0.7*l:\n",
    "    layer.trainable = False "
   ]
  },
  {
   "cell_type": "code",
   "execution_count": 10,
   "id": "b64544d4",
   "metadata": {},
   "outputs": [],
   "source": [
    "model.load_weights('Model_dem3.h5')"
   ]
  },
  {
   "cell_type": "code",
   "execution_count": 48,
   "id": "d6245193",
   "metadata": {
    "scrolled": false
   },
   "outputs": [],
   "source": [
    "# Thay đổi đường dẫn tới thư mục chứa ảnh tương ứng trên máy của bạn\n",
    "image_folder = r'C:\\Users\\ASUS\\Documents\\Lap_trinh\\LaptrinhPython\\ThucTap\\images'\n",
    "\n",
    "# Lấy tất cả tên file trong thư mục\n",
    "image_files = os.listdir(image_folder)\n",
    "\n",
    "# Lấy đường dẫn đầy đủ của ảnh\n",
    "image_paths = [os.path.join(image_folder, filename) for filename in image_files]\n",
    "# Hiển thị ảnh sử dụng thư viện matplotlib\n",
    "images = []\n",
    "for image_path in image_paths:\n",
    "    image = plt.imread(image_path)\n",
    "    images.append(image)\n",
    "    #plt.imshow(image/255)\n",
    "    #plt.show()"
   ]
  },
  {
   "cell_type": "code",
   "execution_count": 52,
   "id": "90e74528",
   "metadata": {},
   "outputs": [],
   "source": [
    "\n",
    "\n",
    "# Define desired image size\n",
    "img_size = (224, 224)\n",
    "\n",
    "# Create empty list to store resized images\n",
    "resized_images = []\n",
    "\n",
    "# Loop through each image\n",
    "for image in images:\n",
    "    # Resize image to desired size using OpenCV\n",
    "    resized_image = cv2.resize(image, img_size)\n",
    "    \n",
    "    # Add new dimension to image using np.reshape\n",
    "    resized_image = np.reshape(resized_image, (1, img_size[0], img_size[1], 3))\n",
    "    \n",
    "    # Add resized image to list\n",
    "    resized_images.append(resized_image)"
   ]
  },
  {
   "cell_type": "code",
   "execution_count": 55,
   "id": "372367b6",
   "metadata": {
    "scrolled": true
   },
   "outputs": [
    {
     "name": "stdout",
     "output_type": "stream",
     "text": [
      "1/1 [==============================] - 1s 1s/step\n"
     ]
    }
   ],
   "source": [
    "pred = model.predict(resized_images[1])"
   ]
  },
  {
   "cell_type": "code",
   "execution_count": 57,
   "id": "b2408418",
   "metadata": {},
   "outputs": [],
   "source": [
    "pred = np.argmax(pred,axis = -1)"
   ]
  },
  {
   "cell_type": "code",
   "execution_count": 56,
   "id": "51da7692",
   "metadata": {},
   "outputs": [
    {
     "name": "stdout",
     "output_type": "stream",
     "text": [
      "[[3.2020584e-05 9.9957556e-01 1.6261982e-04 1.1234761e-07 4.1717549e-06\n",
      "  1.9306497e-04 3.2544129e-05]]\n"
     ]
    }
   ],
   "source": [
    "print(pred)"
   ]
  },
  {
   "cell_type": "code",
   "execution_count": 61,
   "id": "120ac188",
   "metadata": {},
   "outputs": [],
   "source": [
    "labels = ['Audi',\n",
    "  'Hyundai Creta',\n",
    "  'Mahindra Scorpio',\n",
    "  'Rolls Royce',\n",
    "  'Swift',\n",
    "  'Tata Safari',\n",
    "  'Toyota Innova']"
   ]
  },
  {
   "cell_type": "code",
   "execution_count": 62,
   "id": "ea1e62ef",
   "metadata": {},
   "outputs": [
    {
     "data": {
      "text/plain": [
       "'Hyundai Creta'"
      ]
     },
     "execution_count": 62,
     "metadata": {},
     "output_type": "execute_result"
    }
   ],
   "source": [
    "labels[pred[0]]"
   ]
  },
  {
   "cell_type": "code",
   "execution_count": null,
   "id": "19097318",
   "metadata": {},
   "outputs": [],
   "source": [
    "model = None\n",
    "pretrained_model = tf.keras.applications.ResNet50(input_shape = (224,224,3), weights=\"imagenet\",include_top=False)\n",
    "        inputs = keras.layers.Input((224,224,3),name = 'input')\n",
    "        x = keras.layers.Resizing(224,224, name = 'resize')(inputs)\n",
    "        x = pretrained_model(x)\n",
    "        x = keras.layers.GlobalAveragePooling2D(name = 'pooling')(x)\n",
    "        ouputs = keras.layers.Dense(7,activation = 'softmax',name = 'classfication')(x)\n",
    "        model = keras.Model(inputs = inputs, outputs = ouputs)"
   ]
  }
 ],
 "metadata": {
  "kernelspec": {
   "display_name": "Python 3 (ipykernel)",
   "language": "python",
   "name": "python3"
  },
  "language_info": {
   "codemirror_mode": {
    "name": "ipython",
    "version": 3
   },
   "file_extension": ".py",
   "mimetype": "text/x-python",
   "name": "python",
   "nbconvert_exporter": "python",
   "pygments_lexer": "ipython3",
   "version": "3.9.16"
  }
 },
 "nbformat": 4,
 "nbformat_minor": 5
}
